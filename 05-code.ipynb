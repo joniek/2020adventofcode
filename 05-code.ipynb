{
    "cells": [
        {
            "cell_type": "code",
            "execution_count": 34,
            "source": [
                "# import csv\n",
                "import os\n",
                "import re\n",
                "\n",
                "# folderPath = \"/Users/socialgen/Documents/GitHub/2020adventofcode\"\n",
                "folderPath = \"/Users/joankhoo/Documents/GitHub/2020adventofcode\"\n",
                "fileName = \"05-input.txt\"\n",
                "filePath = os.path.join(folderPath,fileName)\n",
                "\n",
                "file = open(filePath,'r')\n",
                "lines = file.read().split('\\n')\n",
                "file.close()\n",
                "\n",
                "# print(lines)"
            ],
            "outputs": [],
            "metadata": {}
        },
        {
            "cell_type": "code",
            "execution_count": 43,
            "source": [
                "# Part 1\n",
                "results = [['seat','row','col','id']]\n",
                "seatID = []\n"
            ],
            "outputs": [],
            "metadata": {}
        },
        {
            "cell_type": "code",
            "execution_count": 45,
            "source": [
                "# values = ['BFFFBBFRRR','FFFBBBFRRR','BBFFBBFRLL']\n",
                "divide_by_2 = lambda a: int(a/2)\n",
                "\n",
                "\n",
                "for v in lines:\n",
                "\n",
                "    if v != \"\":\n",
                "    \n",
                "        tempRow = [v]\n",
                "\n",
                "        row = 127\n",
                "        col = 7\n",
                "        n = 0\n",
                "\n",
                "        rowMin = 0\n",
                "        rowMax = 127\n",
                "        colMin = 0\n",
                "        colMax = 7\n",
                "\n",
                "        while n < 10:\n",
                "            if n < 7:\n",
                "                row = divide_by_2(row)\n",
                "                if v[n] == 'F':\n",
                "                    rowMax = row + rowMin\n",
                "                    # print(\"min \" + str(rowMin) + \" | max \" + str(rowMax))\n",
                "                elif v[n] == 'B':\n",
                "                    rowMin = rowMin + row + 1\n",
                "                    # print(\"min \" + str(rowMin) + \" | max \" + str(rowMax))\n",
                "            else: \n",
                "                col = divide_by_2(col)\n",
                "                if v[n] == 'L':\n",
                "                    colMax = col + colMin\n",
                "                    # print(\"min \" + str(colMin) + \" | max \" + str(colMax))\n",
                "                elif v[n] == 'R':\n",
                "                    colMin = colMin + col + 1\n",
                "                    # print(\"min \" + str(colMin) + \" | max \" + str(colMax))\n",
                "            n += 1\n",
                "\n",
                "        tempRow.append(rowMin)\n",
                "        tempRow.append(colMin)\n",
                "        tempRow.append((rowMin * 8) + colMin)\n",
                "        results.append(tempRow)\n",
                "        seatID.append((rowMin * 8) + colMin)\n"
            ],
            "outputs": [],
            "metadata": {}
        },
        {
            "cell_type": "code",
            "execution_count": 46,
            "source": [
                "# Getting the highest ID.\n",
                "\n",
                "maxID = 0\n",
                "i = 0\n",
                "\n",
                "for i in seatID:\n",
                "    if i > maxID:\n",
                "        maxID = i\n",
                "    i += 1\n",
                "    \n",
                "print(maxID)"
            ],
            "outputs": [
                {
                    "output_type": "stream",
                    "name": "stdout",
                    "text": [
                        "866\n"
                    ]
                }
            ],
            "metadata": {}
        },
        {
            "cell_type": "code",
            "execution_count": 49,
            "source": [
                "# Part 2\n",
                "\n",
                "seatID = sorted(seatID)\n",
                "# print(seatID)\n",
                "\n",
                "n = 0\n",
                "while n < len(seatID):\n",
                "    if n != 0 and n != len(seatID)-1:\n",
                "        if seatID[n]+1 != seatID[n+1]:\n",
                "            print(\"The missing seatID is \" + str(seatID[n]+1))\n",
                "    n += 1"
            ],
            "outputs": [
                {
                    "output_type": "stream",
                    "name": "stdout",
                    "text": [
                        "The missing seatID is 583\n"
                    ]
                }
            ],
            "metadata": {}
        }
    ],
    "metadata": {
        "orig_nbformat": 4,
        "language_info": {
            "name": "python",
            "version": "3.7.4",
            "mimetype": "text/x-python",
            "codemirror_mode": {
                "name": "ipython",
                "version": 3
            },
            "pygments_lexer": "ipython3",
            "nbconvert_exporter": "python",
            "file_extension": ".py"
        },
        "kernelspec": {
            "name": "python3",
            "display_name": "Python 3.7.4 64-bit"
        },
        "interpreter": {
            "hash": "aee8b7b246df8f9039afb4144a1f6fd8d2ca17a180786b69acc140d282b71a49"
        }
    },
    "nbformat": 4,
    "nbformat_minor": 2
}
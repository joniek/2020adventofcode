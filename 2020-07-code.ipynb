{
 "cells": [
  {
   "cell_type": "code",
   "execution_count": 3,
   "metadata": {},
   "outputs": [],
   "source": [
    "import os\n",
    "\n",
    "folderpath = '/Users/joankhoo/Documents/GitHub/2020adventofcode'\n",
    "filename = '2020-07-input.txt'\n",
    "\n",
    "\n",
    "with open(os.path.join(folderpath,filename), 'r') as f:\n",
    "    bags = f.read().split('.\\n')\n",
    "\n",
    "    bags_dict = {}\n",
    "    for bag in bags:\n",
    "        if bag != '':\n",
    "            bag = bag.replace(\" bags\",\"\").replace(\" bag\",\"\") # remove \"bags\"\n",
    "            bag = bag.split(\" contain \")\n",
    "            bag[1] = bag[1].split(\", \")\n",
    "            temp_dict = {}\n",
    "            for innerbag in bag[1]:\n",
    "                temp_dict[innerbag[2:]] = innerbag[:2]\n",
    "            bags_dict[bag[0]] = temp_dict.copy()\n",
    "\n"
   ]
  },
  {
   "cell_type": "code",
   "execution_count": 9,
   "metadata": {},
   "outputs": [
    {
     "name": "stdout",
     "output_type": "stream",
     "text": [
      "274\n",
      "165\n"
     ]
    }
   ],
   "source": [
    "# Part 1: Find the number different coloured bags that could (eventually) hold a shiny gold bag.\n",
    "\n",
    "target = ['shiny gold']\n",
    "allColours = ['shiny gold']\n",
    "newTarget = []\n",
    "\n",
    "# Recursively checks for bags that could eventually hold a shiny gold bag.\n",
    "while len(target) > 0:\n",
    "    for colour in target:\n",
    "        for bag in bags_dict:\n",
    "            if colour in bags_dict[bag]:\n",
    "                newTarget.append(bag)\n",
    "\n",
    "    # print(newTarget)\n",
    "    allColours += newTarget\n",
    "    target = newTarget\n",
    "    newTarget = []\n",
    "\n",
    "# Change into Set to remove duplicates, then -1 for the Shiny Gold bag.\n",
    "print(len(set(allColours))-1)"
   ]
  },
  {
   "cell_type": "code",
   "execution_count": 23,
   "metadata": {},
   "outputs": [],
   "source": [
    "# Part 2: Find the number of bags a shiny gold bag can hold.\n",
    "# Wrong answers: 138 too low. 39360 too high.\n",
    "# Right answer: 7872.\n",
    "\n",
    "inventory = {}\n",
    "\n",
    "def get_bags(parent):\n",
    "    children = bags_dict.get(parent)\n",
    "\n",
    "    for child in children:\n",
    "        if children[child] != 'no':\n",
    "            if child in inventory:\n",
    "                inventory[child] += int(children[child])\n",
    "            else:\n",
    "                inventory[child] = int(children[child])\n",
    "            for n in range(int(children[child])):\n",
    "                get_bags(child)\n",
    "\n"
   ]
  },
  {
   "cell_type": "code",
   "execution_count": 24,
   "metadata": {},
   "outputs": [
    {
     "name": "stdout",
     "output_type": "stream",
     "text": [
      "bright maroon - 5\n",
      "faded indigo - 20\n",
      "wavy gray - 80\n",
      "light tan - 244\n",
      "dull lime - 2172\n",
      "muted salmon - 644\n",
      "light cyan - 644\n",
      "vibrant blue - 812\n",
      "pale beige - 1102\n",
      "pale white - 160\n",
      "vibrant maroon - 160\n",
      "pale tomato - 330\n",
      "bright magenta - 1188\n",
      "shiny aqua - 41\n",
      "clear lime - 2\n",
      "mirrored green - 6\n",
      "mirrored olive - 24\n",
      "dim salmon - 30\n",
      "dull yellow - 150\n",
      "vibrant bronze - 24\n",
      "drab blue - 24\n",
      "muted white - 2\n",
      "dim indigo - 2\n",
      "posh tomato - 6\n",
      "7872\n"
     ]
    }
   ],
   "source": [
    "get_bags('shiny gold')\n",
    "\n",
    "total = 0\n",
    "for i in inventory:\n",
    "    print(i + \" - \" + str(inventory[i]))\n",
    "    total += inventory[i]\n",
    "\n",
    "print(total)"
   ]
  }
 ],
 "metadata": {
  "interpreter": {
   "hash": "8b3de4796a8f121c7b4cdaa5e7f5c16ba3592c3b1bd7852620d202dc730974d8"
  },
  "kernelspec": {
   "display_name": "Python 3.8.8 64-bit ('base': conda)",
   "name": "python3"
  },
  "language_info": {
   "codemirror_mode": {
    "name": "ipython",
    "version": 3
   },
   "file_extension": ".py",
   "mimetype": "text/x-python",
   "name": "python",
   "nbconvert_exporter": "python",
   "pygments_lexer": "ipython3",
   "version": "3.8.8"
  },
  "orig_nbformat": 4
 },
 "nbformat": 4,
 "nbformat_minor": 2
}

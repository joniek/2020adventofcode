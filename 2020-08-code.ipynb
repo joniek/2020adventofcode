{
 "cells": [
  {
   "cell_type": "code",
   "execution_count": 166,
   "metadata": {},
   "outputs": [],
   "source": [
    "import os\n",
    "\n",
    "folderpath = '/Users/joankhoo/Documents/GitHub/2020adventofcode'\n",
    "filename = '2020-08-input.txt'\n",
    "# filename = '2020-08-sample.txt'\n",
    "\n",
    "\n",
    "with open(os.path.join(folderpath,filename), 'r') as f:\n",
    "    lists = f.read().split('\\n')\n",
    "\n",
    "\n",
    "def newCommand():\n",
    "    command = []\n",
    "\n",
    "    for l in lists:\n",
    "        command.append(l.split(' '))\n",
    "\n",
    "    return command\n",
    "\n",
    "# print(command)\n",
    "\n"
   ]
  },
  {
   "cell_type": "code",
   "execution_count": 52,
   "metadata": {},
   "outputs": [
    {
     "name": "stdout",
     "output_type": "stream",
     "text": [
      "2034\n"
     ]
    }
   ],
   "source": [
    "# Part 1: Run your copy of the boot code. Immediately before any instruction is executed a second time, \n",
    "# what value is in the accumulator?\n",
    "\n",
    "\n",
    "accumulator = 0\n",
    "lines = set()\n",
    "n = 0\n",
    "\n",
    "command = newCommand()\n",
    "\n",
    "while n not in lines:\n",
    "    lines.add(n)\n",
    "\n",
    "    # print(str(n) + \" - \" + command[n][0] + \" - \" + command[n][1])\n",
    "    if (command[n][0] == 'nop'):\n",
    "        n += 1\n",
    "    elif (command[n][0] == 'acc'):\n",
    "        accumulator += int(command[n][1])\n",
    "        n += 1\n",
    "    elif (command[n][0]) == 'jmp':\n",
    "        n += int(command[n][1])\n",
    "\n",
    "    \n",
    "\n",
    "print(accumulator)\n"
   ]
  },
  {
   "cell_type": "code",
   "execution_count": 176,
   "metadata": {},
   "outputs": [],
   "source": [
    "# Part 2 : Fix the program so that it terminates normally by changing exactly one jmp (to nop) or nop (to jmp). \n",
    "# What is the value of the accumulator after the program terminates?\n",
    "\n",
    "\n",
    "# Changes one command from a 'jmp' to a 'nop' and vice versa, then runs the program. \n",
    "# If it terminates naturally, then return the accumulator. Else -1.\n",
    "def changeOne(number):\n",
    "    accumulator = 0\n",
    "    lines = set()\n",
    "    n = 0\n",
    "    command = newCommand()\n",
    "\n",
    "    # Change nop to jmp and vice versa.\n",
    "    if command[number][0] == 'nop':\n",
    "        command[number][0] = 'jmp'\n",
    "    else:\n",
    "        command[number][0] = 'nop'\n",
    "\n",
    "    \n",
    "    while n not in lines and n < len(command):\n",
    "        lines.add(n)\n",
    "\n",
    "        if (command[n][0]) == 'jmp':\n",
    "            n += int(command[n][1])\n",
    "        \n",
    "        elif (command[n][0] == 'acc'):\n",
    "            accumulator += int(command[n][1])\n",
    "            n += 1\n",
    "\n",
    "        elif (command[n][0] == 'nop'):\n",
    "            n += 1\n",
    "        \n",
    "\n",
    "    \n",
    "    if (n not in lines):\n",
    "        return accumulator\n",
    "    else:\n",
    "        return -1\n",
    "\n"
   ]
  },
  {
   "cell_type": "code",
   "execution_count": 177,
   "metadata": {},
   "outputs": [
    {
     "name": "stdout",
     "output_type": "stream",
     "text": [
      "672\n"
     ]
    }
   ],
   "source": [
    "\n",
    "line = 0\n",
    "accResult = -1\n",
    "length = len(newCommand())\n",
    "\n",
    "while line < length and accResult == -1:\n",
    "    if commandLines[line][0] != 'acc':\n",
    "        accResult = changeOne(line)\n",
    "    line += 1    \n",
    "\n",
    "print(accResult)\n"
   ]
  }
 ],
 "metadata": {
  "interpreter": {
   "hash": "8b3de4796a8f121c7b4cdaa5e7f5c16ba3592c3b1bd7852620d202dc730974d8"
  },
  "kernelspec": {
   "display_name": "Python 3.8.8 64-bit ('base': conda)",
   "name": "python3"
  },
  "language_info": {
   "codemirror_mode": {
    "name": "ipython",
    "version": 3
   },
   "file_extension": ".py",
   "mimetype": "text/x-python",
   "name": "python",
   "nbconvert_exporter": "python",
   "pygments_lexer": "ipython3",
   "version": "3.8.8"
  },
  "orig_nbformat": 4
 },
 "nbformat": 4,
 "nbformat_minor": 2
}

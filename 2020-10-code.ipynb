{
 "cells": [
  {
   "cell_type": "code",
   "execution_count": 14,
   "metadata": {},
   "outputs": [
    {
     "name": "stdout",
     "output_type": "stream",
     "text": [
      "[0, 1, 2, 5, 6, 7, 8, 11, 12, 13, 14, 15, 18, 19, 20, 21, 22, 25, 26, 27, 28, 29, 32, 33, 34, 35, 38, 39, 40, 43, 46, 47, 48, 49, 50, 53, 54, 55, 56, 59, 60, 61, 62, 65, 68, 69, 70, 71, 74, 75, 78, 81, 82, 83, 86, 87, 88, 89, 92, 93, 94, 95, 96, 99, 102, 105, 106, 107, 108, 109, 112, 113, 114, 117, 118, 119, 120, 121, 124, 127, 128, 129, 132, 133, 134, 135, 136, 139, 140, 143, 146, 147, 148, 151, 154, 155, 158, 159, 160, 161, 162, 165, 168, 169, 170]\n"
     ]
    }
   ],
   "source": [
    "import os\n",
    "\n",
    "folderpath = '/Users/joankhoo/Documents/GitHub/2020adventofcode'\n",
    "filename = '2020-10-input.txt'\n",
    "# filename = '2020-10-sample2.txt'\n",
    "\n",
    "\n",
    "with open(os.path.join(folderpath,filename), 'r') as f:\n",
    "    input = f.read().split('\\n')\n",
    "\n",
    "# print(input)\n",
    "\n",
    "def input_formatter():\n",
    "    formatted = []\n",
    "    for i in input:\n",
    "        formatted.append(int(i))\n",
    "    return formatted\n",
    "\n",
    "input = input_formatter()\n",
    "input.append(0)\n",
    "input.sort()\n",
    "\n",
    "print(input_formatter())\n",
    "\n"
   ]
  },
  {
   "cell_type": "code",
   "execution_count": 20,
   "metadata": {},
   "outputs": [
    {
     "name": "stdout",
     "output_type": "stream",
     "text": [
      "[0, 71, 0, 34]\n",
      "2414\n"
     ]
    }
   ],
   "source": [
    "# Part 1\n",
    "\n",
    "input.sort()\n",
    "\n",
    "differences = [0,0,0,0]\n",
    "jolts = 0\n",
    "\n",
    "for i in input:\n",
    "    dif = i - jolts\n",
    "\n",
    "    if dif <= 3:\n",
    "        differences[dif] += 1\n",
    "\n",
    "    jolts = i\n",
    "    \n",
    "differences[3] += 1\n",
    "print(differences)\n",
    "print(differences[1]*differences[3])\n"
   ]
  },
  {
   "cell_type": "code",
   "execution_count": 42,
   "metadata": {},
   "outputs": [
    {
     "name": "stdout",
     "output_type": "stream",
     "text": [
      "21156911906816\n"
     ]
    }
   ],
   "source": [
    "# Part 2. \n",
    "# wrong answer: 2064550898489615111976997489 to high.\n",
    "# right answer:21156911906816\n",
    "\n",
    "\n",
    "from collections import defaultdict\n",
    "\n",
    "count = defaultdict(int,{0:1})\n",
    "\n",
    "for i in input:\n",
    "    if i > 2:\n",
    "        count[i] = count[i-1] + count[i-2] + count[i-3]\n",
    "    elif i == 0:\n",
    "        count[i] = 1\n",
    "    elif i == 1:\n",
    "        count[i] = count[i-1]\n",
    "    elif i == 2:\n",
    "        count[i] = count[i-1] + count[i-2]\n",
    "\n",
    "print(count.get(len(count)-1))\n"
   ]
  }
 ],
 "metadata": {
  "interpreter": {
   "hash": "8b3de4796a8f121c7b4cdaa5e7f5c16ba3592c3b1bd7852620d202dc730974d8"
  },
  "kernelspec": {
   "display_name": "Python 3.8.8 64-bit ('base': conda)",
   "name": "python3"
  },
  "language_info": {
   "codemirror_mode": {
    "name": "ipython",
    "version": 3
   },
   "file_extension": ".py",
   "mimetype": "text/x-python",
   "name": "python",
   "nbconvert_exporter": "python",
   "pygments_lexer": "ipython3",
   "version": "3.8.8"
  },
  "orig_nbformat": 4
 },
 "nbformat": 4,
 "nbformat_minor": 2
}

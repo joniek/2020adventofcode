{
 "metadata": {
  "language_info": {
   "codemirror_mode": {
    "name": "ipython",
    "version": 3
   },
   "file_extension": ".py",
   "mimetype": "text/x-python",
   "name": "python",
   "nbconvert_exporter": "python",
   "pygments_lexer": "ipython3",
   "version": 3
  },
  "orig_nbformat": 4
 },
 "nbformat": 4,
 "nbformat_minor": 2,
 "cells": [
  {
   "cell_type": "code",
   "execution_count": null,
   "metadata": {},
   "outputs": [],
   "source": [
    "import csv\n",
    "import os\n",
    "\n",
    "folderPath = \"/Users/socialgen/Documents/GitHub/2020adventofcode\"\n",
    "fileName = \"w04-input.txt\"\n",
    "filePath = os.path.join(folderPath,fileName)\n",
    "\n",
    "def readFile(filePath):\n",
    "    values = []\n",
    "\n",
    "    with open(filePath) as csvFile:\n",
    "        csvReader = csv.reader(csvFile)\n",
    "\n",
    "        for row in csvReader:\n",
    "            # print(row[0])\n",
    "            values.append(row[0])\n",
    "\n",
    "    return values\n",
    "\n",
    "values = readFile(filePath)\n",
    "# print(values)"
   ]
  }
 ]
}
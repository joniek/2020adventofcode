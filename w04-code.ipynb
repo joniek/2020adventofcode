{
    "cells": [
        {
            "cell_type": "code",
            "execution_count": null,
            "source": [
                "# import csv\n",
                "import os\n",
                "import re\n",
                "\n",
                "# folderPath = \"/Users/socialgen/Documents/GitHub/2020adventofcode\"\n",
                "folderPath = \"/Users/joankhoo/Documents/GitHub/2020adventofcode\"\n",
                "fileName = \"w04-input.txt\"\n",
                "filePath = os.path.join(folderPath,fileName)\n",
                "\n",
                "file = open(filePath,'r')\n",
                "lines = file.read().split('\\n\\n')\n",
                "input = [line.replace('\\n',' ') for line in lines]\n",
                "file.close()\n",
                "\n"
            ],
            "outputs": [],
            "metadata": {}
        },
        {
            "cell_type": "markdown",
            "source": [
                "# byr (Birth Year)\n",
                "# iyr (Issue Year)\n",
                "# eyr (Expiration Year)\n",
                "# hgt (Height)\n",
                "# hcl (Hair Color)\n",
                "# ecl (Eye Color)\n",
                "# pid (Passport ID)\n",
                "# cid (Country ID)\n"
            ],
            "metadata": {}
        },
        {
            "cell_type": "code",
            "execution_count": 164,
            "source": [
                "# Part 1A\n",
                "\n",
                "# reArray = ['byr:([\\d\\w]+)','iyr:([\\d\\w]+)','eyr:([\\d\\w]+)','hgt:([\\d\\w]+)','hcl:([#\\w\\d]+)','ecl:([\\w\\d]+)','pid:([\\w\\d]+)','cid:([\\w\\d]+)']\n",
                "# newArray = [['byr','iyr','eyr','hgt','hcl','ecl','pid','cid']]\n",
                "\n",
                "reArray = ['byr:([\\d\\w]+)','iyr:([\\d\\w]+)','eyr:([\\d\\w]+)','hgt:([\\d\\w]+)','hcl:([#\\w\\d]+)','ecl:([\\w\\d]+)','pid:([\\w\\d]+)']\n",
                "newArray = [['byr','iyr','eyr','hgt','hcl','ecl','pid']]\n",
                "validation = ['byr','iyr','eyr','hgt','hcl','ecl','pid']\n"
            ],
            "outputs": [],
            "metadata": {}
        },
        {
            "cell_type": "code",
            "execution_count": 172,
            "source": [
                "# Part 1B\n",
                "\n",
                "counter = 0\n",
                "part2input = []\n",
                "\n",
                "\n",
                "for row in input:\n",
                "    if all(x in row for x in validation):\n",
                "        counter += 1\n",
                "        part2input.append(row)\n",
                "        # print(str(counter) + \" \" + str(row))\n",
                "\n",
                "print(counter)"
            ],
            "outputs": [
                {
                    "output_type": "stream",
                    "name": "stdout",
                    "text": [
                        "260\n"
                    ]
                }
            ],
            "metadata": {}
        },
        {
            "cell_type": "markdown",
            "source": [
                "Part 2: Validation\n",
                "\n",
                "byr (Birth Year) - four digits; at least 1920 and at most 2002.\n",
                "iyr (Issue Year) - four digits; at least 2010 and at most 2020.\n",
                "eyr (Expiration Year) - four digits; at least 2020 and at most 2030.\n",
                "hgt (Height) - a number followed by either cm or in:\n",
                "If cm, the number must be at least 150 and at most 193.\n",
                "If in, the number must be at least 59 and at most 76.\n",
                "hcl (Hair Color) - a # followed by exactly six characters 0-9 or a-f.\n",
                "ecl (Eye Color) - exactly one of: amb blu brn gry grn hzl oth.\n",
                "pid (Passport ID) - a nine-digit number, including leading zeroes.\n",
                "cid (Country ID) - ignored, missing or not.\n",
                "\n",
                "Wrong answers\n",
                "154\n",
                "\n",
                "Correct answer \n",
                "153\n",
                "something wrong with validation. Could not get to the correct answer."
            ],
            "metadata": {}
        },
        {
            "cell_type": "code",
            "execution_count": 217,
            "source": [
                "# Part 2\n",
                "reArray = ['byr:19[2-9]\\d|byr:200[0-2]','iyr:201\\d|iyr:2020','eyr:202\\d|eyr:2030','hgt:1[5-8]\\dcm|hgt:19[0-3]cm|hgt:59in|hgt:6\\din|hgt:7[0-6]in','hcl:#[a-z0-9]{6}','ecl:(amb|blu|brn|gry|grn|hzl|oth)','pid:\\d{9}']\n",
                "counter = 0\n",
                "rejected = 0\n",
                "\n",
                "\n",
                "for i in part2input:\n",
                "    miniCount = 0\n",
                "\n",
                "    for n in reArray:\n",
                "        if re.search(n,i):\n",
                "            # print(re.search(n,i)[0])\n",
                "            miniCount += 1\n",
                "    \n",
                "    if miniCount == 7:\n",
                "        counter += 1\n",
                "        # print(str(counter) + \" \" + str(re.search(n,i)[0]))\n",
                "        # print(str(re.search(n,i)[0]))\n",
                "\n",
                "print(counter)\n"
            ],
            "outputs": [
                {
                    "output_type": "stream",
                    "name": "stdout",
                    "text": [
                        "154\n"
                    ]
                }
            ],
            "metadata": {}
        }
    ],
    "metadata": {
        "orig_nbformat": 4,
        "language_info": {
            "name": "python",
            "version": "3.7.4",
            "mimetype": "text/x-python",
            "codemirror_mode": {
                "name": "ipython",
                "version": 3
            },
            "pygments_lexer": "ipython3",
            "nbconvert_exporter": "python",
            "file_extension": ".py"
        },
        "kernelspec": {
            "name": "python3",
            "display_name": "Python 3.7.4 64-bit"
        },
        "interpreter": {
            "hash": "aee8b7b246df8f9039afb4144a1f6fd8d2ca17a180786b69acc140d282b71a49"
        }
    },
    "nbformat": 4,
    "nbformat_minor": 2
}
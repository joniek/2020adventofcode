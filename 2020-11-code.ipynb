{
 "cells": [
  {
   "cell_type": "code",
   "execution_count": null,
   "metadata": {},
   "outputs": [],
   "source": [
    "import os\n",
    "\n",
    "folderpath = '/Users/joankhoo/Documents/GitHub/2020adventofcode'\n",
    "# filename = '2020-10-input.txt'\n",
    "# filename = '2020-11-sample.txt'\n",
    "\n",
    "\n",
    "with open(os.path.join(folderpath,filename), 'r') as f:\n",
    "    input = f.read().split('\\n')\n",
    "\n",
    "# print(input)\n",
    "\n",
    "def input_formatter():\n",
    "    formatted = []\n",
    "    for i in input:\n",
    "        formatted.append(int(i))\n",
    "    return formatted\n",
    "\n",
    "input = input_formatter()\n",
    "input.append(0)\n",
    "input.sort()\n",
    "\n",
    "print(input_formatter())\n",
    "\n"
   ]
  }
 ],
 "metadata": {
  "interpreter": {
   "hash": "8b3de4796a8f121c7b4cdaa5e7f5c16ba3592c3b1bd7852620d202dc730974d8"
  },
  "kernelspec": {
   "display_name": "Python 3.8.8 64-bit ('base': conda)",
   "name": "python3"
  },
  "language_info": {
   "name": "python",
   "version": "3.8.8"
  },
  "orig_nbformat": 4
 },
 "nbformat": 4,
 "nbformat_minor": 2
}

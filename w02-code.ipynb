{
 "metadata": {
  "language_info": {
   "codemirror_mode": {
    "name": "ipython",
    "version": 3
   },
   "file_extension": ".py",
   "mimetype": "text/x-python",
   "name": "python",
   "nbconvert_exporter": "python",
   "pygments_lexer": "ipython3",
   "version": "3.8.8"
  },
  "orig_nbformat": 4,
  "kernelspec": {
   "name": "python3",
   "display_name": "Python 3.8.8 64-bit ('base': conda)"
  },
  "interpreter": {
   "hash": "41923b8836d5859fa09bf3602c3e67248697a101092e3b325cfaacda0aea4b31"
  }
 },
 "nbformat": 4,
 "nbformat_minor": 2,
 "cells": [
  {
   "cell_type": "code",
   "execution_count": null,
   "metadata": {},
   "outputs": [],
   "source": [
    "import csv\n",
    "import os\n",
    "\n",
    "folderPath = \"/Users/socialgen/Documents/GitHub/2020adventofcode\"\n",
    "fileName = \"w02-input.txt\"\n",
    "filePath = os.path.join(folderPath,fileName)"
   ]
  },
  {
   "cell_type": "code",
   "execution_count": null,
   "metadata": {},
   "outputs": [],
   "source": [
    "def readFile(filePath):\n",
    "    values = []\n",
    "\n",
    "    with open(filePath) as csvFile:\n",
    "        csvReader = csv.reader(csvFile, delimiter=\" \")\n",
    "\n",
    "        for row in csvReader:\n",
    "            i = row[0].split(\"-\")\n",
    "            values.append([int(i[0]),int(i[1]),row[1][0],row[2]])\n",
    "\n",
    "    return values"
   ]
  },
  {
   "cell_type": "code",
   "execution_count": null,
   "metadata": {
    "tags": []
   },
   "outputs": [],
   "source": [
    "values = readFile(filePath)\n",
    "# print(values)"
   ]
  },
  {
   "cell_type": "code",
   "execution_count": null,
   "metadata": {
    "tags": []
   },
   "outputs": [],
   "source": [
    "# Part 1\n",
    "\n",
    "answer = 0\n",
    "\n",
    "for row in values:\n",
    "    counter = 0\n",
    "    for n in row[3]:\n",
    "        if row[2] == n:\n",
    "            counter += 1\n",
    "    if (counter >= row[0]) and (counter <= row[1]):\n",
    "        answer += 1\n",
    "\n",
    "print(answer)"
   ]
  },
  {
   "cell_type": "code",
   "execution_count": 46,
   "metadata": {
    "tags": []
   },
   "outputs": [
    {
     "output_type": "stream",
     "name": "stdout",
     "text": [
      "263\n"
     ]
    }
   ],
   "source": [
    "# Part 2\n",
    "\n",
    "answer = 0\n",
    "\n",
    "for row in values:\n",
    "    # print(row)\n",
    "    # print(row[3][row[0]-1])\n",
    "\n",
    "    if (row[3][row[0]-1] == row[2]) and (row[3][row[1]-1] != row[2]):\n",
    "        answer += 1\n",
    "    if (row[3][row[0]-1] != row[2]) and (row[3][row[1]-1] == row[2]):\n",
    "        answer += 1\n",
    "    \n",
    "print(answer)"
   ]
  },
  {
   "cell_type": "code",
   "execution_count": null,
   "metadata": {},
   "outputs": [],
   "source": []
  }
 ]
}
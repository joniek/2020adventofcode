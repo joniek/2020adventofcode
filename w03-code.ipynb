{
 "metadata": {
  "language_info": {
   "codemirror_mode": {
    "name": "ipython",
    "version": 3
   },
   "file_extension": ".py",
   "mimetype": "text/x-python",
   "name": "python",
   "nbconvert_exporter": "python",
   "pygments_lexer": "ipython3",
   "version": "3.8.8"
  },
  "orig_nbformat": 4,
  "kernelspec": {
   "name": "python3",
   "display_name": "Python 3.8.8 64-bit ('base': conda)"
  },
  "interpreter": {
   "hash": "41923b8836d5859fa09bf3602c3e67248697a101092e3b325cfaacda0aea4b31"
  }
 },
 "nbformat": 4,
 "nbformat_minor": 2,
 "cells": [
  {
   "cell_type": "code",
   "execution_count": null,
   "metadata": {},
   "outputs": [],
   "source": [
    "import csv\n",
    "import os\n",
    "\n",
    "folderPath = \"/Users/socialgen/Documents/GitHub/2020adventofcode\"\n",
    "fileName = \"w03-input.txt\"\n",
    "filePath = os.path.join(folderPath,fileName)\n",
    "\n",
    "def readFile(filePath):\n",
    "    values = []\n",
    "\n",
    "    with open(filePath) as csvFile:\n",
    "        csvReader = csv.reader(csvFile)\n",
    "\n",
    "        for row in csvReader:\n",
    "            # print(row[0])\n",
    "            values.append(row[0])\n",
    "\n",
    "    return values\n",
    "\n",
    "values = readFile(filePath)\n",
    "# print(values)"
   ]
  },
  {
   "cell_type": "code",
   "execution_count": null,
   "metadata": {},
   "outputs": [],
   "source": [
    "# Part 1\n",
    "\n",
    "trees = 0\n",
    "\n",
    "width = len(values[0])\n",
    "\n",
    "row = 0\n",
    "col = 0\n",
    "\n",
    "while row < len(values)-1:\n",
    "    col += 3\n",
    "    if col >= width:\n",
    "        col = col - width\n",
    "    row += 1\n",
    "    if (values[row][col] == '#'):\n",
    "        trees += 1\n",
    "    # print(values[row][col])\n",
    "\n",
    "print(trees)"
   ]
  },
  {
   "cell_type": "code",
   "execution_count": null,
   "metadata": {},
   "outputs": [],
   "source": [
    "# Part 2\n",
    "\n",
    "direction = [[1,1],[1,3],[1,5],[1,7],[2,1]]\n",
    "# print(direction)    \n",
    "\n",
    "def count_trees(right,down):\n",
    "    width = len(values[0])\n",
    "\n",
    "    trees = 0\n",
    "    row = 0\n",
    "    col = 0\n",
    "\n",
    "    while row + down < len(values):\n",
    "        col += right\n",
    "        if col >= width:\n",
    "            col = col - width\n",
    "        row += down\n",
    "        if (values[row][col] == '#'):\n",
    "            trees += 1\n",
    "\n",
    "    # print(trees)\n",
    "    return trees\n",
    "\n",
    "\n",
    "for d in direction:\n",
    "    d.append(count_trees(d[1],d[0]))\n",
    "    \n",
    "i = 0\n",
    "while i < len(direction):\n",
    "    if i == 0:\n",
    "        x = direction[i][2]\n",
    "    else:\n",
    "        x = x * direction[i][2]\n",
    "        \n",
    "    i+=1\n",
    "    \n",
    "print(x)\n"
   ]
  },
  {
   "cell_type": "code",
   "execution_count": null,
   "metadata": {},
   "outputs": [],
   "source": []
  }
 ]
}
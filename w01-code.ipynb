{
 "metadata": {
  "language_info": {
   "codemirror_mode": {
    "name": "ipython",
    "version": 3
   },
   "file_extension": ".py",
   "mimetype": "text/x-python",
   "name": "python",
   "nbconvert_exporter": "python",
   "pygments_lexer": "ipython3",
   "version": "3.8.8"
  },
  "orig_nbformat": 4,
  "kernelspec": {
   "name": "python3",
   "display_name": "Python 3.8.8 64-bit ('base': conda)"
  },
  "interpreter": {
   "hash": "41923b8836d5859fa09bf3602c3e67248697a101092e3b325cfaacda0aea4b31"
  }
 },
 "nbformat": 4,
 "nbformat_minor": 2,
 "cells": [
  {
   "cell_type": "code",
   "execution_count": null,
   "metadata": {},
   "outputs": [],
   "source": [
    "import csv\n",
    "import os\n",
    "\n",
    "folderPath = \"/Users/socialgen/Documents/GitHub/2020adventofcode\"\n",
    "fileName = \"w01-input.txt\"\n",
    "filePath = os.path.join(folderPath,fileName)"
   ]
  },
  {
   "cell_type": "code",
   "execution_count": null,
   "metadata": {},
   "outputs": [],
   "source": [
    "def readFile(filePath):\n",
    "    values = []\n",
    "\n",
    "    with open(filePath) as csvFile:\n",
    "        csvReader = csv.reader(csvFile, delimiter=\",\")\n",
    "\n",
    "        for row in csvReader:\n",
    "            values.append(int(row[0]))\n",
    "\n",
    "    return values"
   ]
  },
  {
   "cell_type": "code",
   "execution_count": null,
   "metadata": {},
   "outputs": [],
   "source": []
  },
  {
   "cell_type": "code",
   "execution_count": null,
   "metadata": {
    "tags": []
   },
   "outputs": [],
   "source": [
    "# Part 1\n",
    "\n",
    "values = readFile(filePath)\n",
    "\n",
    "i = 0\n",
    "answer = 0\n",
    "\n",
    "while i < len(values)-1:\n",
    "    n = i + 1\n",
    "\n",
    "    while n < len(values):\n",
    "        # print(str(i) + \" \" + str(n))\n",
    "\n",
    "        if values[i] + values[n] == 2020:\n",
    "            answer = (values[i] * values[n])\n",
    "            n = len(values)\n",
    "            i = len(values)\n",
    "        n+=1\n",
    "\n",
    "    i+=1\n",
    "\n",
    "print(answer)"
   ]
  },
  {
   "cell_type": "code",
   "execution_count": 30,
   "metadata": {
    "tags": []
   },
   "outputs": [
    {
     "output_type": "stream",
     "name": "stdout",
     "text": [
      "292093004\n"
     ]
    }
   ],
   "source": [
    "# Part 2\n",
    "\n",
    "values = readFile(filePath)\n",
    "\n",
    "i = 0\n",
    "answer = 0\n",
    "\n",
    "while i < len(values)-1:\n",
    "    n = i + 1\n",
    "\n",
    "    while n < len(values):\n",
    "        k = n + 1\n",
    "\n",
    "        while k < len(values):\n",
    "\n",
    "            # print(str(i) + \" \" + str(n) + \" \" + str(k))\n",
    "\n",
    "            if values[i] + values[n] + values[k] == 2020:\n",
    "                answer = (values[i] * values[n] * values[k])\n",
    "                n = len(values)\n",
    "                i = len(values)\n",
    "                k = len(values)\n",
    "\n",
    "            k+=1\n",
    "        n+=1\n",
    "    i+=1\n",
    "\n",
    "print(answer)"
   ]
  },
  {
   "cell_type": "code",
   "execution_count": null,
   "metadata": {},
   "outputs": [],
   "source": []
  }
 ]
}
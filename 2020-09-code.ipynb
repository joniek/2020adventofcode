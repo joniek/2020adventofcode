{
 "cells": [
  {
   "cell_type": "code",
   "execution_count": 71,
   "metadata": {},
   "outputs": [],
   "source": [
    "import os\n",
    "\n",
    "folderpath = '/Users/joankhoo/Documents/GitHub/2020adventofcode'\n",
    "filename = '2020-09-input.txt'\n",
    "# filename = '2020-09-sample.txt'\n",
    "\n",
    "\n",
    "with open(os.path.join(folderpath,filename), 'r') as f:\n",
    "    input = f.read().split('\\n')\n",
    "\n",
    "# print(input)\n",
    "\n",
    "def input_formatter():\n",
    "    formatted = []\n",
    "    for i in input:\n",
    "        formatted.append(int(i))\n",
    "    return formatted\n",
    "\n",
    "# print(input_formatter())\n",
    "\n"
   ]
  },
  {
   "cell_type": "code",
   "execution_count": 72,
   "metadata": {},
   "outputs": [
    {
     "name": "stdout",
     "output_type": "stream",
     "text": [
      "144381670\n"
     ]
    }
   ],
   "source": [
    "# Part 1: The first step of attacking the weakness in the XMAS data is to find the first number in the list (after the preamble) \n",
    "# which is not the sum of two of the 25 numbers before it. \n",
    "# What is the first number that does not have this property?\n",
    "\n",
    "numbers = input_formatter()\n",
    "WIN_SIZE = 25\n",
    "\n",
    "def validator(window,number):\n",
    "    # print(number)\n",
    "    # print(window)\n",
    "    for n in window:\n",
    "        x = abs(number - n)\n",
    "        if x in window and x != number:\n",
    "            return True\n",
    "    return False\n",
    "\n",
    "def notSum():\n",
    "    for i in range(len(numbers)-WIN_SIZE):\n",
    "        window = numbers[i:i+WIN_SIZE]\n",
    "        if validator(window,numbers[i+WIN_SIZE]) == False:\n",
    "            return numbers[i+WIN_SIZE]\n",
    "\n",
    "print(notSum())\n",
    "\n"
   ]
  },
  {
   "cell_type": "code",
   "execution_count": 73,
   "metadata": {},
   "outputs": [
    {
     "name": "stdout",
     "output_type": "stream",
     "text": [
      "144381670\n",
      "[5779902, 5821115, 5841937, 14752667, 6932934, 9843037, 6240013, 6745010, 8585628, 8937860, 9076207, 7222000, 8634163, 9316176, 9739942, 10442589, 10470490]\n",
      "20532569\n"
     ]
    }
   ],
   "source": [
    "# Part 2: you must find a contiguous set of at least two numbers in your list which sum to the invalid number from step 1.\n",
    "# To find the encryption weakness, add together the smallest and largest number in this contiguous range; \n",
    "# in this example, these are 15 and 47, producing 62.\n",
    "# What is the encryption weakness in your XMAS-encrypted list of numbers?\n",
    "\n",
    "import copy\n",
    "\n",
    "target = notSum()\n",
    "window = numbers[:numbers.index(target)]\n",
    "\n",
    "for i in range(len(window)-2):\n",
    "    newRange = window[i:2+i]\n",
    "    n = i + 1\n",
    "\n",
    "    while sum(newRange) < target:\n",
    "        n += 1\n",
    "        newRange.append(window[n])\n",
    "    \n",
    "    if sum(newRange) == target:\n",
    "        print(sum(newRange))\n",
    "        print(newRange)\n",
    "        print(min(newRange) + max(newRange))\n",
    "\n",
    "\n",
    "\n",
    "\n",
    "\n",
    "\n"
   ]
  }
 ],
 "metadata": {
  "interpreter": {
   "hash": "8b3de4796a8f121c7b4cdaa5e7f5c16ba3592c3b1bd7852620d202dc730974d8"
  },
  "kernelspec": {
   "display_name": "Python 3.8.8 64-bit ('base': conda)",
   "name": "python3"
  },
  "language_info": {
   "codemirror_mode": {
    "name": "ipython",
    "version": 3
   },
   "file_extension": ".py",
   "mimetype": "text/x-python",
   "name": "python",
   "nbconvert_exporter": "python",
   "pygments_lexer": "ipython3",
   "version": "3.8.8"
  },
  "orig_nbformat": 4
 },
 "nbformat": 4,
 "nbformat_minor": 2
}
